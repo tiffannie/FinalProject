{
 "cells": [
  {
   "cell_type": "code",
   "execution_count": 10,
   "metadata": {},
   "outputs": [],
   "source": [
    "from keras.models import Sequential\n",
    "from keras.layers import Dense, Activation, Dropout\n",
    "from sklearn.model_selection import cross_val_score\n",
    "from sklearn.neural_network import  MLPRegressor\n",
    "import csv\n",
    "import pandas as pd\n",
    "import numpy as np\n",
    "from sklearn.preprocessing import StandardScaler"
   ]
  },
  {
   "cell_type": "code",
   "execution_count": 11,
   "metadata": {
    "scrolled": false
   },
   "outputs": [
    {
     "name": "stdout",
     "output_type": "stream",
     "text": [
      "  chorus_num  year  rank  min pitch     max pitch  semitones         1  \\\n",
      "0         t1  2000     1  49.165565  10077.427734     92.151  0.070130   \n",
      "0         t2  2000     1  44.419090  12372.230469     97.461  0.069854   \n",
      "0         t1  2000     2  43.066406   5694.838379     84.563  0.062742   \n",
      "0         t2  2000     2  54.388142   7689.414062     85.721  0.066394   \n",
      "\n",
      "          2         3         4    ...           25        26        27  \\\n",
      "0  0.025290  3.211492  0.154289    ...     0.011053  0.018358  0.011353   \n",
      "0  0.026899  3.197358  0.155465    ...     0.012898  0.018481  0.013359   \n",
      "0  0.068079  3.124742  0.136561    ...     0.013276  0.022236  0.017319   \n",
      "0  0.078450  3.154230  0.136204    ...     0.013709  0.020353  0.015735   \n",
      "\n",
      "         28        29        30        31        32        33        34  \n",
      "0  0.081244  0.002043  0.004497  0.009091  0.039288  0.008888  0.031881  \n",
      "0  0.079581  0.002126  0.004041  0.009565  0.039752  0.007371  0.032283  \n",
      "0  0.031146  0.005512  0.006156  0.023527  0.029204  0.002831  0.026623  \n",
      "0  0.033099  0.005324  0.006382  0.021296  0.028685  0.002966  0.023807  \n",
      "\n",
      "[4 rows x 40 columns]\n",
      "(1116, 40)\n"
     ]
    }
   ],
   "source": [
    "data = pd.read_pickle('masterPitchDataFrame.pkl')\n",
    "\n",
    "print data.head(4)\n",
    "print data.shape\n",
    "\n",
    "print data.describe()"
   ]
  },
  {
   "cell_type": "code",
   "execution_count": 2,
   "metadata": {
    "collapsed": true
   },
   "outputs": [],
   "source": [
    "from sklearn import model_selection\n",
    "from sklearn.linear_model import LogisticRegression\n",
    "from sklearn.tree import DecisionTreeClassifier\n",
    "from sklearn.neighbors import KNeighborsClassifier\n",
    "from sklearn.discriminant_analysis import LinearDiscriminantAnalysis\n",
    "from sklearn.naive_bayes import GaussianNB\n",
    "from sklearn.svm import SVC\n",
    "from pandas.tools.plotting import scatter_matrix\n",
    "from sklearn.preprocessing import StandardScaler\n",
    "from sklearn.model_selection import train_test_split\n",
    "from sklearn.model_selection import KFold\n",
    "from sklearn.model_selection import cross_val_score\n",
    "from sklearn.model_selection import GridSearchCV\n",
    "from sklearn.linear_model import LinearRegression\n",
    "from sklearn.linear_model import Lasso\n",
    "from sklearn.linear_model import ElasticNet\n",
    "from sklearn.tree import DecisionTreeRegressor\n",
    "from sklearn.neighbors import KNeighborsRegressor\n",
    "from sklearn.svm import SVR\n",
    "from sklearn.pipeline import Pipeline\n",
    "from sklearn.ensemble import RandomForestRegressor\n",
    "from sklearn.ensemble import GradientBoostingRegressor\n",
    "from sklearn.ensemble import ExtraTreesRegressor\n",
    "from sklearn.ensemble import AdaBoostRegressor\n",
    "from sklearn.metrics import mean_squared_error"
   ]
  },
  {
   "cell_type": "code",
   "execution_count": 12,
   "metadata": {},
   "outputs": [],
   "source": [
    "from sklearn.preprocessing import LabelEncoder\n",
    "\n",
    "encoder = LabelEncoder()\n",
    "data['chorus_num_code'] = encoder.fit_transform(data['chorus_num'])\n",
    "#print data[['chorus_num',\"chorus_num_code\"]].head()\n",
    "\n",
    "data['year_code'] = encoder.fit_transform(data['year'])\n",
    "#print data[['year',\"year_code\"]].head(200)"
   ]
  },
  {
   "cell_type": "code",
   "execution_count": 23,
   "metadata": {},
   "outputs": [
    {
     "name": "stdout",
     "output_type": "stream",
     "text": [
      "Index([u'chorus_num', u'year', u'rank', u'min pitch', u'max pitch',\n",
      "       u'semitones', u'1', u'2', u'3', u'4', u'5', u'6', u'7', u'8', u'9',\n",
      "       u'10', u'11', u'12', u'13', u'14', u'15', u'16', u'17', u'18', u'19',\n",
      "       u'20', u'21', u'22', u'23', u'24', u'25', u'26', u'27', u'28', u'29',\n",
      "       u'30', u'31', u'32', u'33', u'34', u'chorus_num_code', u'year_code'],\n",
      "      dtype='object')\n",
      "              rank    min pitch      max pitch    semitones            1  \\\n",
      "count  1116.000000  1116.000000    1116.000000  1116.000000  1116.000000   \n",
      "mean     50.111111    49.252653    9566.066164    89.283065     0.065711   \n",
      "std      28.953561     8.484090    6347.284066     9.841724     0.022721   \n",
      "min       1.000000    43.066406     526.556213    32.659000     0.018444   \n",
      "25%      25.000000    43.203750    6427.135376    84.527000     0.050570   \n",
      "50%      50.000000    46.875000    9232.619141    91.191000     0.062884   \n",
      "75%      75.000000    51.940618   11790.467285    95.977750     0.077887   \n",
      "max     100.000000   193.956879  115231.296875   135.161000     0.309949   \n",
      "\n",
      "                 2            3            4            5            6  \\\n",
      "count  1116.000000  1116.000000  1116.000000  1116.000000  1116.000000   \n",
      "mean      0.042750     3.125144     0.150353     0.174472     0.537797   \n",
      "std       0.023700     0.066947     0.027632     0.015945     0.211342   \n",
      "min       0.001734     2.761482     0.084399     0.109775     0.094732   \n",
      "25%       0.026898     3.083586     0.130505     0.162657     0.387257   \n",
      "50%       0.037294     3.128553     0.149148     0.175110     0.512959   \n",
      "75%       0.053228     3.178194     0.168692     0.184369     0.675862   \n",
      "max       0.169964     3.256073     0.274581     0.222836     1.715947   \n",
      "\n",
      "          ...                27           28           29           30  \\\n",
      "count     ...       1116.000000  1116.000000  1116.000000  1116.000000   \n",
      "mean      ...          0.009892     0.067607     0.002691     0.006059   \n",
      "std       ...          0.005229     0.031262     0.001489     0.003112   \n",
      "min       ...          0.001543     0.009194     0.000256     0.000553   \n",
      "25%       ...          0.006232     0.045663     0.001676     0.003891   \n",
      "50%       ...          0.008886     0.062929     0.002394     0.005489   \n",
      "75%       ...          0.012415     0.083803     0.003393     0.007463   \n",
      "max       ...          0.048562     0.233267     0.014848     0.027994   \n",
      "\n",
      "                31           32           33           34  chorus_num_code  \\\n",
      "count  1116.000000  1116.000000  1116.000000  1116.000000      1116.000000   \n",
      "mean      0.012001     0.032562     0.004788     0.035683         0.500000   \n",
      "std       0.005398     0.013497     0.002553     0.010499         0.500224   \n",
      "min       0.002820     0.007282     0.000677     0.010118         0.000000   \n",
      "25%       0.008300     0.022535     0.003068     0.028559         0.000000   \n",
      "50%       0.011041     0.030041     0.004238     0.034040         0.500000   \n",
      "75%       0.014856     0.039784     0.005930     0.040950         1.000000   \n",
      "max       0.043753     0.104532     0.021583     0.076373         1.000000   \n",
      "\n",
      "         year_code  \n",
      "count  1116.000000  \n",
      "mean      2.480287  \n",
      "std       1.712671  \n",
      "min       0.000000  \n",
      "25%       1.000000  \n",
      "50%       3.000000  \n",
      "75%       4.000000  \n",
      "max       5.000000  \n",
      "\n",
      "[8 rows x 40 columns]\n"
     ]
    }
   ],
   "source": [
    "columns = data.columns.tolist()\n",
    "columns = [c for c in columns if c not in [\"rank\",\"chorus_num\",\"year\"]]\n",
    "print data.columns\n",
    "\n",
    "\n",
    "y = data[\"rank\"]#.astype(float)\n",
    "x = data[columns]#.astype(float)\n",
    "#print x\n",
    "seed = 7"
   ]
  },
  {
   "cell_type": "code",
   "execution_count": 24,
   "metadata": {},
   "outputs": [],
   "source": [
    "# prepare models\n",
    "models = []\n",
    "models.append(('LR', LogisticRegression()))\n",
    "models.append(('LDA', LinearDiscriminantAnalysis()))\n",
    "models.append(('KNN', KNeighborsClassifier()))\n",
    "models.append(('CART', DecisionTreeClassifier()))\n",
    "models.append(('NB', GaussianNB()))\n",
    "models.append(('SVM', SVC()))\n"
   ]
  },
  {
   "cell_type": "code",
   "execution_count": 25,
   "metadata": {},
   "outputs": [
    {
     "name": "stdout",
     "output_type": "stream",
     "text": [
      "LR: 0.002679 (0.005717)\n",
      "LDA: 0.008036 (0.009322)\n",
      "KNN: 0.008969 (0.008993)\n",
      "CART: 0.008977 (0.008977)\n",
      "NB: 0.003596 (0.004404)\n",
      "SVM: 0.000893 (0.002679)\n"
     ]
    }
   ],
   "source": [
    "#print type(target)\n",
    "# evaluate each model in turn\n",
    "data = data.reindex()\n",
    "results = []\n",
    "names = []\n",
    "scoring = 'accuracy'\n",
    "for name, model in models:\n",
    "    kfold = model_selection.KFold(n_splits=10, random_state=seed)\n",
    "    cv_results = model_selection.cross_val_score(model, x, y, cv=kfold, scoring=scoring)\n",
    "    results.append(cv_results)\n",
    "    names.append(name)\n",
    "    msg = \"%s: %f (%f)\" % (name, cv_results.mean(), cv_results.std())\n",
    "    print(msg)"
   ]
  },
  {
   "cell_type": "code",
   "execution_count": 68,
   "metadata": {},
   "outputs": [
    {
     "data": {
      "image/png": "[encoded data removed]",
      "text/plain": [
       "<matplotlib.figure.Figure at 0x7f63ed9e37d0>"
      ]
     },
     "metadata": {},
     "output_type": "display_data"
    }
   ],
   "source": [
    "import matplotlib.pyplot as plt\n",
    "# boxplot algorithm comparison\n",
    "fig = plt.figure()\n",
    "fig.suptitle('Algorithm Comparison')\n",
    "ax = fig.add_subplot(111)\n",
    "plt.boxplot(results)\n",
    "ax.set_xticklabels(names)\n",
    "plt.show()"
   ]
  }
 ],
 "metadata": {
  "kernelspec": {
   "display_name": "Python 3",
   "language": "python",
   "name": "python3"
  },
  "language_info": {
   "codemirror_mode": {
    "name": "ipython",
    "version": 2
   },
   "file_extension": ".py",
   "mimetype": "text/x-python",
   "name": "python",
   "nbconvert_exporter": "python",
   "pygments_lexer": "ipython2",
   "version": "2.7.13"
  }
 },
 "nbformat": 4,
 "nbformat_minor": 2
}
