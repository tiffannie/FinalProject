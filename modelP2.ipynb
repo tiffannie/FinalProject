{
 "cells": [
  {
   "cell_type": "code",
   "execution_count": 1,
   "metadata": {
    "collapsed": true
   },
   "outputs": [],
   "source": [
    "import pandas as pd\n",
    "import numpy as np\n",
    "from sklearn.preprocessing import LabelEncoder\n",
    "import random\n",
    "from sklearn.ensemble import RandomForestClassifier\n",
    "from sklearn.ensemble import GradientBoostingClassifier"
   ]
  },
  {
   "cell_type": "code",
   "execution_count": 2,
   "metadata": {},
   "outputs": [
    {
     "name": "stdout",
     "output_type": "stream",
     "text": [
      "  chorus_num  year  rank  min pitch     max pitch  semitones         1  \\\n",
      "0         t1  2000     1  49.165565  10077.427734     92.151  0.070130   \n",
      "0         t2  2000     1  44.419090  12372.230469     97.461  0.069854   \n",
      "0         t1  2000     2  43.066406   5694.838379     84.563  0.062742   \n",
      "0         t2  2000     2  54.388142   7689.414062     85.721  0.066394   \n",
      "\n",
      "          2         3         4    ...           25        26        27  \\\n",
      "0  0.025290  3.211492  0.154289    ...     0.011053  0.018358  0.011353   \n",
      "0  0.026899  3.197358  0.155465    ...     0.012898  0.018481  0.013359   \n",
      "0  0.068079  3.124742  0.136561    ...     0.013276  0.022236  0.017319   \n",
      "0  0.078450  3.154230  0.136204    ...     0.013709  0.020353  0.015735   \n",
      "\n",
      "         28        29        30        31        32        33        34  \n",
      "0  0.081244  0.002043  0.004497  0.009091  0.039288  0.008888  0.031881  \n",
      "0  0.079581  0.002126  0.004041  0.009565  0.039752  0.007371  0.032283  \n",
      "0  0.031146  0.005512  0.006156  0.023527  0.029204  0.002831  0.026623  \n",
      "0  0.033099  0.005324  0.006382  0.021296  0.028685  0.002966  0.023807  \n",
      "\n",
      "[4 rows x 40 columns]\n",
      "(1116, 40)\n",
      "              rank    min pitch      max pitch    semitones            1  \\\n",
      "count  1116.000000  1116.000000    1116.000000  1116.000000  1116.000000   \n",
      "mean     50.111111    49.252653    9566.066164    89.283065     0.065711   \n",
      "std      28.953561     8.484090    6347.284066     9.841724     0.022721   \n",
      "min       1.000000    43.066406     526.556213    32.659000     0.018444   \n",
      "25%      25.000000    43.203750    6427.135376    84.527000     0.050570   \n",
      "50%      50.000000    46.875000    9232.619141    91.191000     0.062884   \n",
      "75%      75.000000    51.940618   11790.467285    95.977750     0.077887   \n",
      "max     100.000000   193.956879  115231.296875   135.161000     0.309949   \n",
      "\n",
      "                 2            3            4            5            6  \\\n",
      "count  1116.000000  1116.000000  1116.000000  1116.000000  1116.000000   \n",
      "mean      0.042750     3.125144     0.150353     0.174472     0.537797   \n",
      "std       0.023700     0.066947     0.027632     0.015945     0.211342   \n",
      "min       0.001734     2.761482     0.084399     0.109775     0.094732   \n",
      "25%       0.026898     3.083586     0.130505     0.162657     0.387257   \n",
      "50%       0.037294     3.128553     0.149148     0.175110     0.512959   \n",
      "75%       0.053228     3.178194     0.168692     0.184369     0.675862   \n",
      "max       0.169964     3.256073     0.274581     0.222836     1.715947   \n",
      "\n",
      "          ...                25           26           27           28  \\\n",
      "count     ...       1116.000000  1116.000000  1116.000000  1116.000000   \n",
      "mean      ...          0.010859     0.019635     0.009892     0.067607   \n",
      "std       ...          0.005628     0.008124     0.005229     0.031262   \n",
      "min       ...          0.001749     0.003243     0.001543     0.009194   \n",
      "25%       ...          0.006791     0.014148     0.006232     0.045663   \n",
      "50%       ...          0.009740     0.018258     0.008886     0.062929   \n",
      "75%       ...          0.013672     0.023739     0.012415     0.083803   \n",
      "max       ...          0.038392     0.058037     0.048562     0.233267   \n",
      "\n",
      "                29           30           31           32           33  \\\n",
      "count  1116.000000  1116.000000  1116.000000  1116.000000  1116.000000   \n",
      "mean      0.002691     0.006059     0.012001     0.032562     0.004788   \n",
      "std       0.001489     0.003112     0.005398     0.013497     0.002553   \n",
      "min       0.000256     0.000553     0.002820     0.007282     0.000677   \n",
      "25%       0.001676     0.003891     0.008300     0.022535     0.003068   \n",
      "50%       0.002394     0.005489     0.011041     0.030041     0.004238   \n",
      "75%       0.003393     0.007463     0.014856     0.039784     0.005930   \n",
      "max       0.014848     0.027994     0.043753     0.104532     0.021583   \n",
      "\n",
      "                34  \n",
      "count  1116.000000  \n",
      "mean      0.035683  \n",
      "std       0.010499  \n",
      "min       0.010118  \n",
      "25%       0.028559  \n",
      "50%       0.034040  \n",
      "75%       0.040950  \n",
      "max       0.076373  \n",
      "\n",
      "[8 rows x 38 columns]\n"
     ]
    }
   ],
   "source": [
    "data = pd.read_pickle('masterPitchDataFrame.pkl')\n",
    "\n",
    "print data.head(4)\n",
    "print data.shape\n",
    "\n",
    "print data.describe()"
   ]
  },
  {
   "cell_type": "code",
   "execution_count": 5,
   "metadata": {},
   "outputs": [
    {
     "data": {
      "text/plain": [
       "chorus_num    False\n",
       "year          False\n",
       "rank          False\n",
       "min pitch     False\n",
       "max pitch     False\n",
       "semitones     False\n",
       "1             False\n",
       "2             False\n",
       "3             False\n",
       "4             False\n",
       "5             False\n",
       "6             False\n",
       "7             False\n",
       "8             False\n",
       "9             False\n",
       "10            False\n",
       "11            False\n",
       "12            False\n",
       "13            False\n",
       "14            False\n",
       "15            False\n",
       "16            False\n",
       "17            False\n",
       "18            False\n",
       "19            False\n",
       "20            False\n",
       "21            False\n",
       "22            False\n",
       "23            False\n",
       "24            False\n",
       "25            False\n",
       "26            False\n",
       "27            False\n",
       "28            False\n",
       "29            False\n",
       "30            False\n",
       "31            False\n",
       "32            False\n",
       "33            False\n",
       "34            False\n",
       "dtype: bool"
      ]
     },
     "execution_count": 5,
     "metadata": {},
     "output_type": "execute_result"
    }
   ],
   "source": [
    "#https://www.analyticsvidhya.com/blog/2015/09/build-predictive-model-10-minutes-python/\n",
    "target_col = ['rank']\n",
    "cat_cols = ['chorus_num','year']\n",
    "num_cols = list(set(list(data.columns))-set(cat_cols)-set(target_col))\n",
    "data.isnull().any()"
   ]
  },
  {
   "cell_type": "code",
   "execution_count": 7,
   "metadata": {},
   "outputs": [
    {
     "data": {
      "text/plain": [
       "0      1\n",
       "0      1\n",
       "0      2\n",
       "0      2\n",
       "0      3\n",
       "0      3\n",
       "0      4\n",
       "0      4\n",
       "0      5\n",
       "0      5\n",
       "0      6\n",
       "0      6\n",
       "0      7\n",
       "0      7\n",
       "0      8\n",
       "0      8\n",
       "0      9\n",
       "0      9\n",
       "0    100\n",
       "0    100\n",
       "0     10\n",
       "0     10\n",
       "0     11\n",
       "0     11\n",
       "0     12\n",
       "0     12\n",
       "0     13\n",
       "0     13\n",
       "0     14\n",
       "0     14\n",
       "    ... \n",
       "0     84\n",
       "0     84\n",
       "0     85\n",
       "0     85\n",
       "0     86\n",
       "0     86\n",
       "0     87\n",
       "0     87\n",
       "0     88\n",
       "0     88\n",
       "0     89\n",
       "0     89\n",
       "0     90\n",
       "0     90\n",
       "0     91\n",
       "0     91\n",
       "0     92\n",
       "0     92\n",
       "0     93\n",
       "0     93\n",
       "0     94\n",
       "0     94\n",
       "0     95\n",
       "0     95\n",
       "0     96\n",
       "0     96\n",
       "0     97\n",
       "0     97\n",
       "0     98\n",
       "0     98\n",
       "Name: rank, Length: 1116, dtype: object"
      ]
     },
     "execution_count": 7,
     "metadata": {},
     "output_type": "execute_result"
    }
   ],
   "source": [
    "#create label encoders for categorical features\n",
    "for var in cat_cols:\n",
    "    number = LabelEncoder()\n",
    "    data[var] = number.fit_transform(data[var].astype('str'))\n",
    "#Target variable is also a categorical so convert it\n",
    "data['rank'].astype('str')\n",
    "\n"
   ]
  },
  {
   "cell_type": "code",
   "execution_count": 10,
   "metadata": {},
   "outputs": [
    {
     "name": "stdout",
     "output_type": "stream",
     "text": [
      "Index([u'chorus_num', u'year', u'rank', u'min pitch', u'max pitch',\n",
      "       u'semitones', u'1', u'2', u'3', u'4', u'5', u'6', u'7', u'8', u'9',\n",
      "       u'10', u'11', u'12', u'13', u'14', u'15', u'16', u'17', u'18', u'19',\n",
      "       u'20', u'21', u'22', u'23', u'24', u'25', u'26', u'27', u'28', u'29',\n",
      "       u'30', u'31', u'32', u'33', u'34'],\n",
      "      dtype='object')\n"
     ]
    }
   ],
   "source": [
    "features = list (set(list(data.columns))-set(target_col))\n",
    "\n",
    "columns = data.columns.tolist()\n",
    "columns = [c for c in columns if c not in [\"rank\"]]\n",
    "print data.columns\n",
    "\n",
    "\n",
    "y = data[\"rank\"]#.astype(float)\n",
    "X = data[columns]#.astype(float)"
   ]
  },
  {
   "cell_type": "code",
   "execution_count": 12,
   "metadata": {},
   "outputs": [],
   "source": [
    "from sklearn.model_selection import train_test_split\n",
    "X_train, X_test, y_train, y_test = train_test_split(X, y, test_size=0.10, train_size= .90 )"
   ]
  },
  {
   "cell_type": "code",
   "execution_count": 34,
   "metadata": {},
   "outputs": [
    {
     "data": {
      "text/plain": [
       "RandomForestClassifier(bootstrap=True, class_weight=None, criterion='gini',\n",
       "            max_depth=None, max_features='auto', max_leaf_nodes=None,\n",
       "            min_impurity_split=1e-07, min_samples_leaf=1,\n",
       "            min_samples_split=2, min_weight_fraction_leaf=0.0,\n",
       "            n_estimators=1000, n_jobs=1, oob_score=False,\n",
       "            random_state=None, verbose=0, warm_start=False)"
      ]
     },
     "execution_count": 34,
     "metadata": {},
     "output_type": "execute_result"
    }
   ],
   "source": [
    "random.seed(100)\n",
    "rf = RandomForestClassifier(n_estimators=1000)\n",
    "rf.fit(X_train.values, y_train.values)"
   ]
  },
  {
   "cell_type": "code",
   "execution_count": 25,
   "metadata": {
    "collapsed": true
   },
   "outputs": [],
   "source": [
    "predictions = rf.predict(X_test)"
   ]
  },
  {
   "cell_type": "code",
   "execution_count": 26,
   "metadata": {},
   "outputs": [
    {
     "data": {
      "text/plain": [
       "<matplotlib.text.Text at 0x7f9fdc900d90>"
      ]
     },
     "execution_count": 26,
     "metadata": {},
     "output_type": "execute_result"
    }
   ],
   "source": [
    "from matplotlib import pyplot as plt\n",
    "plt.scatter(y_test, predictions)\n",
    "plt.xlabel('True Values')\n",
    "plt.ylabel('Predictions')"
   ]
  },
  {
   "cell_type": "code",
   "execution_count": 27,
   "metadata": {},
   "outputs": [
    {
     "name": "stdout",
     "output_type": "stream",
     "text": [
      "Score: 0.482142857143\n"
     ]
    }
   ],
   "source": [
    "print 'Score:', rf.score(X_test, y_test)"
   ]
  },
  {
   "cell_type": "code",
   "execution_count": 32,
   "metadata": {},
   "outputs": [
    {
     "name": "stdout",
     "output_type": "stream",
     "text": [
      "KFold(n_splits=10, random_state=None, shuffle=False)\n"
     ]
    },
    {
     "data": {
      "text/plain": [
       "KFold(n_splits=20, random_state=None, shuffle=False)"
      ]
     },
     "execution_count": 32,
     "metadata": {},
     "output_type": "execute_result"
    }
   ],
   "source": [
    "from sklearn.model_selection import KFold # import KFold\n",
    "kf = KFold(n_splits=10) # Define the split - into 2 folds \n",
    "kf.get_n_splits(X) # returns the number of splitting iterations in the cross-validator\n",
    "\n",
    "print(kf) \n",
    "\n",
    "KFold(n_splits=20, random_state=None, shuffle=False)"
   ]
  },
  {
   "cell_type": "code",
   "execution_count": 33,
   "metadata": {},
   "outputs": [
    {
     "name": "stdout",
     "output_type": "stream",
     "text": [
      "('TRAIN:', array([ 112,  113,  114, ..., 1113, 1114, 1115]), 'TEST:', array([  0,   1,   2,   3,   4,   5,   6,   7,   8,   9,  10,  11,  12,\n",
      "        13,  14,  15,  16,  17,  18,  19,  20,  21,  22,  23,  24,  25,\n",
      "        26,  27,  28,  29,  30,  31,  32,  33,  34,  35,  36,  37,  38,\n",
      "        39,  40,  41,  42,  43,  44,  45,  46,  47,  48,  49,  50,  51,\n",
      "        52,  53,  54,  55,  56,  57,  58,  59,  60,  61,  62,  63,  64,\n",
      "        65,  66,  67,  68,  69,  70,  71,  72,  73,  74,  75,  76,  77,\n",
      "        78,  79,  80,  81,  82,  83,  84,  85,  86,  87,  88,  89,  90,\n",
      "        91,  92,  93,  94,  95,  96,  97,  98,  99, 100, 101, 102, 103,\n",
      "       104, 105, 106, 107, 108, 109, 110, 111]))\n"
     ]
    },
    {
     "ename": "KeyError",
     "evalue": "'[ 112  113  114 ..., 1113 1114 1115] not in index'",
     "output_type": "error",
     "traceback": [
      "\u001b[0;31m---------------------------------------------------------------------------\u001b[0m",
      "\u001b[0;31mKeyError\u001b[0m                                  Traceback (most recent call last)",
      "\u001b[0;32m<ipython-input-33-6d8b649b8465>\u001b[0m in \u001b[0;36m<module>\u001b[0;34m()\u001b[0m\n\u001b[1;32m      1\u001b[0m \u001b[0;32mfor\u001b[0m \u001b[0mtrain_index\u001b[0m\u001b[0;34m,\u001b[0m \u001b[0mtest_index\u001b[0m \u001b[0;32min\u001b[0m \u001b[0mkf\u001b[0m\u001b[0;34m.\u001b[0m\u001b[0msplit\u001b[0m\u001b[0;34m(\u001b[0m\u001b[0mX\u001b[0m\u001b[0;34m)\u001b[0m\u001b[0;34m:\u001b[0m\u001b[0;34m\u001b[0m\u001b[0m\n\u001b[1;32m      2\u001b[0m  \u001b[0;32mprint\u001b[0m\u001b[0;34m(\u001b[0m\u001b[0;34m'TRAIN:'\u001b[0m\u001b[0;34m,\u001b[0m \u001b[0mtrain_index\u001b[0m\u001b[0;34m,\u001b[0m \u001b[0;34m'TEST:'\u001b[0m\u001b[0;34m,\u001b[0m \u001b[0mtest_index\u001b[0m\u001b[0;34m)\u001b[0m\u001b[0;34m\u001b[0m\u001b[0m\n\u001b[0;32m----> 3\u001b[0;31m  \u001b[0mX_train\u001b[0m\u001b[0;34m.\u001b[0m\u001b[0mvalues\u001b[0m\u001b[0;34m,\u001b[0m \u001b[0mX_test\u001b[0m \u001b[0;34m=\u001b[0m \u001b[0mX\u001b[0m\u001b[0;34m[\u001b[0m\u001b[0mtrain_index\u001b[0m\u001b[0;34m]\u001b[0m\u001b[0;34m,\u001b[0m \u001b[0mX\u001b[0m\u001b[0;34m[\u001b[0m\u001b[0mtest_index\u001b[0m\u001b[0;34m]\u001b[0m\u001b[0;34m\u001b[0m\u001b[0m\n\u001b[0m\u001b[1;32m      4\u001b[0m  \u001b[0my_train\u001b[0m\u001b[0;34m.\u001b[0m\u001b[0mvalues\u001b[0m\u001b[0;34m,\u001b[0m \u001b[0my_test\u001b[0m \u001b[0;34m=\u001b[0m \u001b[0my\u001b[0m\u001b[0;34m[\u001b[0m\u001b[0mtrain_index\u001b[0m\u001b[0;34m]\u001b[0m\u001b[0;34m,\u001b[0m \u001b[0my\u001b[0m\u001b[0;34m[\u001b[0m\u001b[0mtest_index\u001b[0m\u001b[0;34m]\u001b[0m\u001b[0;34m\u001b[0m\u001b[0m\n",
      "\u001b[0;32m/home/tiffannie/anaconda2/lib/python2.7/site-packages/pandas/core/frame.pyc\u001b[0m in \u001b[0;36m__getitem__\u001b[0;34m(self, key)\u001b[0m\n\u001b[1;32m   2054\u001b[0m         \u001b[0;32mif\u001b[0m \u001b[0misinstance\u001b[0m\u001b[0;34m(\u001b[0m\u001b[0mkey\u001b[0m\u001b[0;34m,\u001b[0m \u001b[0;34m(\u001b[0m\u001b[0mSeries\u001b[0m\u001b[0;34m,\u001b[0m \u001b[0mnp\u001b[0m\u001b[0;34m.\u001b[0m\u001b[0mndarray\u001b[0m\u001b[0;34m,\u001b[0m \u001b[0mIndex\u001b[0m\u001b[0;34m,\u001b[0m \u001b[0mlist\u001b[0m\u001b[0;34m)\u001b[0m\u001b[0;34m)\u001b[0m\u001b[0;34m:\u001b[0m\u001b[0;34m\u001b[0m\u001b[0m\n\u001b[1;32m   2055\u001b[0m             \u001b[0;31m# either boolean or fancy integer index\u001b[0m\u001b[0;34m\u001b[0m\u001b[0;34m\u001b[0m\u001b[0m\n\u001b[0;32m-> 2056\u001b[0;31m             \u001b[0;32mreturn\u001b[0m \u001b[0mself\u001b[0m\u001b[0;34m.\u001b[0m\u001b[0m_getitem_array\u001b[0m\u001b[0;34m(\u001b[0m\u001b[0mkey\u001b[0m\u001b[0;34m)\u001b[0m\u001b[0;34m\u001b[0m\u001b[0m\n\u001b[0m\u001b[1;32m   2057\u001b[0m         \u001b[0;32melif\u001b[0m \u001b[0misinstance\u001b[0m\u001b[0;34m(\u001b[0m\u001b[0mkey\u001b[0m\u001b[0;34m,\u001b[0m \u001b[0mDataFrame\u001b[0m\u001b[0;34m)\u001b[0m\u001b[0;34m:\u001b[0m\u001b[0;34m\u001b[0m\u001b[0m\n\u001b[1;32m   2058\u001b[0m             \u001b[0;32mreturn\u001b[0m \u001b[0mself\u001b[0m\u001b[0;34m.\u001b[0m\u001b[0m_getitem_frame\u001b[0m\u001b[0;34m(\u001b[0m\u001b[0mkey\u001b[0m\u001b[0;34m)\u001b[0m\u001b[0;34m\u001b[0m\u001b[0m\n",
      "\u001b[0;32m/home/tiffannie/anaconda2/lib/python2.7/site-packages/pandas/core/frame.pyc\u001b[0m in \u001b[0;36m_getitem_array\u001b[0;34m(self, key)\u001b[0m\n\u001b[1;32m   2098\u001b[0m             \u001b[0;32mreturn\u001b[0m \u001b[0mself\u001b[0m\u001b[0;34m.\u001b[0m\u001b[0mtake\u001b[0m\u001b[0;34m(\u001b[0m\u001b[0mindexer\u001b[0m\u001b[0;34m,\u001b[0m \u001b[0maxis\u001b[0m\u001b[0;34m=\u001b[0m\u001b[0;36m0\u001b[0m\u001b[0;34m,\u001b[0m \u001b[0mconvert\u001b[0m\u001b[0;34m=\u001b[0m\u001b[0mFalse\u001b[0m\u001b[0;34m)\u001b[0m\u001b[0;34m\u001b[0m\u001b[0m\n\u001b[1;32m   2099\u001b[0m         \u001b[0;32melse\u001b[0m\u001b[0;34m:\u001b[0m\u001b[0;34m\u001b[0m\u001b[0m\n\u001b[0;32m-> 2100\u001b[0;31m             \u001b[0mindexer\u001b[0m \u001b[0;34m=\u001b[0m \u001b[0mself\u001b[0m\u001b[0;34m.\u001b[0m\u001b[0mloc\u001b[0m\u001b[0;34m.\u001b[0m\u001b[0m_convert_to_indexer\u001b[0m\u001b[0;34m(\u001b[0m\u001b[0mkey\u001b[0m\u001b[0;34m,\u001b[0m \u001b[0maxis\u001b[0m\u001b[0;34m=\u001b[0m\u001b[0;36m1\u001b[0m\u001b[0;34m)\u001b[0m\u001b[0;34m\u001b[0m\u001b[0m\n\u001b[0m\u001b[1;32m   2101\u001b[0m             \u001b[0;32mreturn\u001b[0m \u001b[0mself\u001b[0m\u001b[0;34m.\u001b[0m\u001b[0mtake\u001b[0m\u001b[0;34m(\u001b[0m\u001b[0mindexer\u001b[0m\u001b[0;34m,\u001b[0m \u001b[0maxis\u001b[0m\u001b[0;34m=\u001b[0m\u001b[0;36m1\u001b[0m\u001b[0;34m,\u001b[0m \u001b[0mconvert\u001b[0m\u001b[0;34m=\u001b[0m\u001b[0mTrue\u001b[0m\u001b[0;34m)\u001b[0m\u001b[0;34m\u001b[0m\u001b[0m\n\u001b[1;32m   2102\u001b[0m \u001b[0;34m\u001b[0m\u001b[0m\n",
      "\u001b[0;32m/home/tiffannie/anaconda2/lib/python2.7/site-packages/pandas/core/indexing.pyc\u001b[0m in \u001b[0;36m_convert_to_indexer\u001b[0;34m(self, obj, axis, is_setter)\u001b[0m\n\u001b[1;32m   1229\u001b[0m                 \u001b[0mmask\u001b[0m \u001b[0;34m=\u001b[0m \u001b[0mcheck\u001b[0m \u001b[0;34m==\u001b[0m \u001b[0;34m-\u001b[0m\u001b[0;36m1\u001b[0m\u001b[0;34m\u001b[0m\u001b[0m\n\u001b[1;32m   1230\u001b[0m                 \u001b[0;32mif\u001b[0m \u001b[0mmask\u001b[0m\u001b[0;34m.\u001b[0m\u001b[0many\u001b[0m\u001b[0;34m(\u001b[0m\u001b[0;34m)\u001b[0m\u001b[0;34m:\u001b[0m\u001b[0;34m\u001b[0m\u001b[0m\n\u001b[0;32m-> 1231\u001b[0;31m                     \u001b[0;32mraise\u001b[0m \u001b[0mKeyError\u001b[0m\u001b[0;34m(\u001b[0m\u001b[0;34m'%s not in index'\u001b[0m \u001b[0;34m%\u001b[0m \u001b[0mobjarr\u001b[0m\u001b[0;34m[\u001b[0m\u001b[0mmask\u001b[0m\u001b[0;34m]\u001b[0m\u001b[0;34m)\u001b[0m\u001b[0;34m\u001b[0m\u001b[0m\n\u001b[0m\u001b[1;32m   1232\u001b[0m \u001b[0;34m\u001b[0m\u001b[0m\n\u001b[1;32m   1233\u001b[0m                 \u001b[0;32mreturn\u001b[0m \u001b[0m_values_from_object\u001b[0m\u001b[0;34m(\u001b[0m\u001b[0mindexer\u001b[0m\u001b[0;34m)\u001b[0m\u001b[0;34m\u001b[0m\u001b[0m\n",
      "\u001b[0;31mKeyError\u001b[0m: '[ 112  113  114 ..., 1113 1114 1115] not in index'"
     ]
    }
   ],
   "source": [
    "for train_index, test_index in kf.split(X):\n",
    " print('TRAIN:', train_index, 'TEST:', test_index)\n",
    " X_train.values, X_test = X[train_index], X[test_index]\n",
    " y_train.values, y_test = y[train_index], y[test_index]"
   ]
  }
 ],
 "metadata": {
  "kernelspec": {
   "display_name": "Python 3",
   "language": "python",
   "name": "python3"
  },
  "language_info": {
   "codemirror_mode": {
    "name": "ipython",
    "version": 2
   },
   "file_extension": ".py",
   "mimetype": "text/x-python",
   "name": "python",
   "nbconvert_exporter": "python",
   "pygments_lexer": "ipython2",
   "version": "2.7.13"
  }
 },
 "nbformat": 4,
 "nbformat_minor": 2
}
