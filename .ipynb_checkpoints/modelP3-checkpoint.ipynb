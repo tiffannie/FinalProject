{
 "cells": [
  {
   "cell_type": "code",
   "execution_count": 52,
   "metadata": {},
   "outputs": [],
   "source": [
    "import pandas as pd\n",
    "import numpy as np\n",
    "from sklearn.preprocessing import OneHotEncoder\n",
    "from sklearn.preprocessing import LabelEncoder\n",
    "import random\n",
    "from sklearn import linear_model, metrics, preprocessing\n",
    "import mord"
   ]
  },
  {
   "cell_type": "code",
   "execution_count": 89,
   "metadata": {},
   "outputs": [],
   "source": [
    "data = pd.read_pickle('masterPitchDataFrame.pkl')\n",
    "#                                                                                      1                  2             3             4                     5                6                     7                8            9       10       11        12       13       14       15       16        17        18          19         20         21        22                   23              24                  25                 26                27                28               29                30                 31                  32                      33                34 \n",
    "data.columns = ['chorus_num', 'year','rank','min pitch','max pitch','semitones','zero crossing rate','energy','entropy of energy','spectral centroid','spectral spread','spectral entropy','spectral flux','spectral rolloff','MFCC 1','MFCC 2','MFCC 3', 'MFCC 4','MFCC 5','MFCC 6','MFCC 7','MFCC 8', 'MFCC 9', 'MFCC 10', 'MFCC 11', 'MFCC 12','MFCC 13','chroma vector 1','chroma vector 2','chroma vector 3','chroma vector 4', 'chroma vector 5','chroma vector 6','chroma vector 7','chroma vector 8','chroma vector 9','chroma vector 10','chroma vector 11','chroma vector 12','chroma deviation']\n",
    "#print data.head(10)"
   ]
  },
  {
   "cell_type": "code",
   "execution_count": 94,
   "metadata": {},
   "outputs": [],
   "source": [
    "#separate by chorus number to see if it makes a difference \n",
    "data1 = data[(data.chorus_num == 't1')]\n",
    "data2 = data[(data.chorus_num == 't2')]\n",
    "no_year_data = data.drop('year', axis = 1) #also try t1 and t2 w/o years\n",
    "#print data1.head(10)\n",
    "#print data2.head(10)\n",
    "#print no_year_data.head(10)\n",
    "#print data.head(10)"
   ]
  },
  {
   "cell_type": "code",
   "execution_count": 84,
   "metadata": {},
   "outputs": [
    {
     "data": {
      "text/plain": [
       "(558, 3)"
      ]
     },
     "execution_count": 84,
     "metadata": {},
     "output_type": "execute_result"
    }
   ],
   "source": [
    "#https://www.analyticsvidhya.com/blog/2015/09/build-predictive-model-10-minutes-python/\n",
    "target_col = ['rank']\n",
    "cat_cols = ['chorus_num','year','rank']\n",
    "#num_cols = list(set(list(data.columns))-set(cat_cols)-set(target_col))\n",
    "#data.isnull().any()\n",
    "\n",
    "cat_data1 = data1[cat_cols]\n",
    "cat_data1.shape"
   ]
  },
  {
   "cell_type": "code",
   "execution_count": 95,
   "metadata": {},
   "outputs": [
    {
     "data": {
      "text/plain": [
       "array([[ 1.,  1.,  0., ...,  0.,  0.,  0.],\n",
       "       [ 1.,  1.,  0., ...,  0.,  0.,  0.],\n",
       "       [ 1.,  1.,  0., ...,  0.,  0.,  0.],\n",
       "       ..., \n",
       "       [ 1.,  0.,  0., ...,  0.,  0.,  0.],\n",
       "       [ 1.,  0.,  0., ...,  0.,  0.,  0.],\n",
       "       [ 1.,  0.,  0., ...,  1.,  0.,  0.]])"
      ]
     },
     "execution_count": 95,
     "metadata": {},
     "output_type": "execute_result"
    }
   ],
   "source": [
    "#Instantiate encoder\n",
    "le = LabelEncoder()\n",
    "\n",
    "#fit data\n",
    "#print cat_data1.head()\n",
    "cat_data1_2 = cat_data1.apply(le.fit_transform)\n",
    "#cat_data1_2.tail()\n",
    "\n",
    "#instantiate\n",
    "enc = OneHotEncoder()\n",
    "#fit\n",
    "ohe_labels = enc.fit_transform(cat_data1_2).toarray()\n",
    "ohe_labels.shape\n",
    "\n",
    "ohe_labels"
   ]
  },
  {
   "cell_type": "code",
   "execution_count": null,
   "metadata": {},
   "outputs": [],
   "source": []
  },
  {
   "cell_type": "code",
   "execution_count": 6,
   "metadata": {},
   "outputs": [
    {
     "name": "stdout",
     "output_type": "stream",
     "text": [
      "Index([u'chorus_num', u'year', u'rank', u'min pitch', u'max pitch',\n",
      "       u'semitones', u'1', u'2', u'3', u'4', u'5', u'6', u'7', u'8', u'9',\n",
      "       u'10', u'11', u'12', u'13', u'14', u'15', u'16', u'17', u'18', u'19',\n",
      "       u'20', u'21', u'22', u'23', u'24', u'25', u'26', u'27', u'28', u'29',\n",
      "       u'30', u'31', u'32', u'33', u'34'],\n",
      "      dtype='object')\n"
     ]
    }
   ],
   "source": [
    "features = list (set(list(data.columns))-set(target_col))\n",
    "\n",
    "columns = data.columns.tolist()\n",
    "columns = [c for c in columns if c not in [\"rank\"]]\n",
    "print data.columns\n",
    "\n",
    "\n",
    "y = data[\"rank\"]#.astype(float)\n",
    "X = data[columns]#.astype(float)"
   ]
  },
  {
   "cell_type": "code",
   "execution_count": 62,
   "metadata": {},
   "outputs": [
    {
     "ename": "NameError",
     "evalue": "name 'X' is not defined",
     "output_type": "error",
     "traceback": [
      "\u001b[0;31m---------------------------------------------------------------------------\u001b[0m",
      "\u001b[0;31mNameError\u001b[0m                                 Traceback (most recent call last)",
      "\u001b[0;32m<ipython-input-62-39d3e4558a9b>\u001b[0m in \u001b[0;36m<module>\u001b[0;34m()\u001b[0m\n\u001b[1;32m      1\u001b[0m \u001b[0;32mfrom\u001b[0m \u001b[0msklearn\u001b[0m\u001b[0;34m.\u001b[0m\u001b[0mmodel_selection\u001b[0m \u001b[0;32mimport\u001b[0m \u001b[0mtrain_test_split\u001b[0m\u001b[0;34m\u001b[0m\u001b[0m\n\u001b[0;32m----> 2\u001b[0;31m \u001b[0mX_train\u001b[0m\u001b[0;34m,\u001b[0m \u001b[0mX_test\u001b[0m\u001b[0;34m,\u001b[0m \u001b[0my_train\u001b[0m\u001b[0;34m,\u001b[0m \u001b[0my_test\u001b[0m \u001b[0;34m=\u001b[0m \u001b[0mtrain_test_split\u001b[0m\u001b[0;34m(\u001b[0m\u001b[0mX\u001b[0m\u001b[0;34m,\u001b[0m \u001b[0my\u001b[0m\u001b[0;34m,\u001b[0m \u001b[0mtest_size\u001b[0m\u001b[0;34m=\u001b[0m\u001b[0;36m0.10\u001b[0m\u001b[0;34m,\u001b[0m \u001b[0mtrain_size\u001b[0m\u001b[0;34m=\u001b[0m \u001b[0;36m.90\u001b[0m \u001b[0;34m)\u001b[0m\u001b[0;34m\u001b[0m\u001b[0m\n\u001b[0m\u001b[1;32m      3\u001b[0m \u001b[0;34m\u001b[0m\u001b[0m\n\u001b[1;32m      4\u001b[0m \u001b[0;31m#cross val score for training\u001b[0m\u001b[0;34m\u001b[0m\u001b[0;34m\u001b[0m\u001b[0m\n\u001b[1;32m      5\u001b[0m \u001b[0;31m#fit training values up here.\u001b[0m\u001b[0;34m\u001b[0m\u001b[0;34m\u001b[0m\u001b[0m\n",
      "\u001b[0;31mNameError\u001b[0m: name 'X' is not defined"
     ]
    }
   ],
   "source": [
    "from sklearn.model_selection import train_test_split\n",
    "X_train, X_test, y_train, y_test = train_test_split(X, y, test_size=0.10, train_size= .90 )\n",
    "\n",
    "#cross val score for training\n",
    "#fit training values up here."
   ]
  },
  {
   "cell_type": "code",
   "execution_count": 9,
   "metadata": {},
   "outputs": [
    {
     "data": {
      "text/plain": [
       "RandomForestClassifier(bootstrap=True, class_weight=None, criterion='gini',\n",
       "            max_depth=None, max_features='auto', max_leaf_nodes=None,\n",
       "            min_impurity_split=1e-07, min_samples_leaf=1,\n",
       "            min_samples_split=2, min_weight_fraction_leaf=0.0,\n",
       "            n_estimators=1000, n_jobs=1, oob_score=False,\n",
       "            random_state=None, verbose=0, warm_start=False)"
      ]
     },
     "execution_count": 9,
     "metadata": {},
     "output_type": "execute_result"
    }
   ],
   "source": [
    "random.seed(100)\n",
    "rf = RandomForestClassifier(n_estimators=1000)\n",
    "#cross val score here for training data\n",
    "cv_results = cross_val_score(model, x, y, scoring='')\n",
    "rf.fit(X_train.values, y_train.values)"
   ]
  },
  {
   "cell_type": "code",
   "execution_count": 10,
   "metadata": {
    "collapsed": true
   },
   "outputs": [],
   "source": [
    "predictions = rf.predict(X_test)\n",
    "#there should be a way to compare X_test and y_test.\n"
   ]
  },
  {
   "cell_type": "code",
   "execution_count": 22,
   "metadata": {},
   "outputs": [
    {
     "name": "stdout",
     "output_type": "stream",
     "text": [
      "-0.0749744033187\n"
     ]
    },
    {
     "data": {
      "image/png": "[encoded data removed]",
      "text/plain": [
       "<matplotlib.figure.Figure at 0x7f8c1a549550>"
      ]
     },
     "metadata": {},
     "output_type": "display_data"
    },
    {
     "data": {
      "image/png": "[encoded data removed]",
      "text/plain": [
       "<matplotlib.figure.Figure at 0x7f8c1a893190>"
      ]
     },
     "metadata": {},
     "output_type": "display_data"
    }
   ],
   "source": [
    "from matplotlib import pyplot as plt\n",
    "from sklearn.metrics import r2_score\n",
    "\n",
    "plt.scatter(y_test, predictions)\n",
    "\n",
    "score = r2_score(y_test, predictions)\n",
    "\n",
    "print score\n",
    "\n",
    "plt.xlabel('True Values')\n",
    "plt.ylabel('Predictions')\n",
    "plt.show()\n",
    "\n",
    "plt.scatter(y_test, predictions)\n",
    "plt.xlabel('True Values')\n",
    "plt.ylabel('Predictions')\n",
    "plt.show()"
   ]
  },
  {
   "cell_type": "code",
   "execution_count": 12,
   "metadata": {},
   "outputs": [
    {
     "name": "stdout",
     "output_type": "stream",
     "text": [
      "Score: 0.508928571429\n"
     ]
    }
   ],
   "source": [
    "print 'Score:', rf.score(X_test, y_test)"
   ]
  },
  {
   "cell_type": "code",
   "execution_count": 13,
   "metadata": {},
   "outputs": [
    {
     "name": "stdout",
     "output_type": "stream",
     "text": [
      "KFold(n_splits=10, random_state=None, shuffle=False)\n"
     ]
    },
    {
     "data": {
      "text/plain": [
       "KFold(n_splits=20, random_state=None, shuffle=False)"
      ]
     },
     "execution_count": 13,
     "metadata": {},
     "output_type": "execute_result"
    }
   ],
   "source": [
    "from sklearn.model_selection import KFold # import KFold\n",
    "kf = KFold(n_splits=10) # Define the split - into 2 folds \n",
    "kf.get_n_splits(X) # returns the number of splitting iterations in the cross-validator\n",
    "\n",
    "print(kf) \n",
    "\n",
    "KFold(n_splits=20, random_state=None, shuffle=False)"
   ]
  },
  {
   "cell_type": "code",
   "execution_count": 19,
   "metadata": {},
   "outputs": [
    {
     "data": {
      "image/png": "[encoded data removed]",
      "text/plain": [
       "<matplotlib.figure.Figure at 0x7f8c1a768110>"
      ]
     },
     "metadata": {},
     "output_type": "display_data"
    }
   ],
   "source": [
    "plt.hist(data['year'], bins = 10)\n",
    "plt.show()"
   ]
  },
  {
   "cell_type": "code",
   "execution_count": null,
   "metadata": {
    "collapsed": true
   },
   "outputs": [],
   "source": [
    "for train_index, test_index in kf.split(X):\n",
    " print('TRAIN:', train_index, 'TEST:', test_index)\n",
    " X_train.values, X_test = X[train_index], X[test_index]\n",
    " y_train.values, y_test = y[train_index], y[test_index]"
   ]
  },
  {
   "cell_type": "code",
   "execution_count": null,
   "metadata": {
    "collapsed": true
   },
   "outputs": [],
   "source": [
    "#create label encoders for categorical features\n",
    "# for var in cat_cols:\n",
    "\n",
    "# enc = OneHotEncoder()\n",
    "# data1[var] = enc.fit_transform(data1[var])#.astype('str'))\n",
    "\n",
    "# le = LabelEncoder()\n",
    "# new_cat_cols = le.fit_transform(cat_cols)\n",
    "# new_cat_cols = new_cat_cols.reshape(-1,1)\n",
    "# ohe = OneHotEncoder(sparse = False)\n",
    "# ohe.fit_transform(new_cat_cols)"
   ]
  }
 ],
 "metadata": {
  "kernelspec": {
   "display_name": "Python 3",
   "language": "python",
   "name": "python3"
  },
  "language_info": {
   "codemirror_mode": {
    "name": "ipython",
    "version": 2
   },
   "file_extension": ".py",
   "mimetype": "text/x-python",
   "name": "python",
   "nbconvert_exporter": "python",
   "pygments_lexer": "ipython2",
   "version": "2.7.13"
  }
 },
 "nbformat": 4,
 "nbformat_minor": 2
}
