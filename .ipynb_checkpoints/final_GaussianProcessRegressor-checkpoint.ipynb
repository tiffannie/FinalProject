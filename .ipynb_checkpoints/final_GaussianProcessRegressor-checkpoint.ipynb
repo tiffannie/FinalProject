{
 "cells": [
  {
   "cell_type": "code",
   "execution_count": 10,
   "metadata": {},
   "outputs": [],
   "source": [
    "import pandas as pd\n",
    "import numpy as np\n",
    "from sklearn import gaussian_process, metrics, preprocessing\n",
    "from sklearn.cross_validation import cross_val_score, cross_val_predict\n",
    "from sklearn import metrics\n",
    "from matplotlib import pyplot as plt\n",
    "from sklearn.model_selection import train_test_split\n",
    "from sklearn.metrics import mean_absolute_error\n",
    "from sklearn.preprocessing import StandardScaler"
   ]
  },
  {
   "cell_type": "code",
   "execution_count": 11,
   "metadata": {},
   "outputs": [],
   "source": [
    "data = pd.read_pickle('masterPitchDataFrame.pkl')\n",
    "# rename columns                                                                             1                  2             3             4                     5                6                     7                8            9       10       11        12       13       14       15       16        17        18          19         20         21        22                   23              24                  25                 26                27                28               29                30                 31                  32                      33                34 \n",
    "data.columns = ['chorus_num', 'year','rank','min pitch','max pitch','semitones','zero crossing rate','energy','entropy of energy','spectral centroid','spectral spread','spectral entropy','spectral flux','spectral rolloff','MFCC 1','MFCC 2','MFCC 3', 'MFCC 4','MFCC 5','MFCC 6','MFCC 7','MFCC 8', 'MFCC 9', 'MFCC 10', 'MFCC 11', 'MFCC 12','MFCC 13','chroma vector 1','chroma vector 2','chroma vector 3','chroma vector 4', 'chroma vector 5','chroma vector 6','chroma vector 7','chroma vector 8','chroma vector 9','chroma vector 10','chroma vector 11','chroma vector 12','chroma deviation']\n",
    "#print data.head(10)"
   ]
  },
  {
   "cell_type": "code",
   "execution_count": 12,
   "metadata": {
    "collapsed": true
   },
   "outputs": [],
   "source": [
    "#separate by chorus number to see if it makes a difference \n",
    "data1 = data[(data.chorus_num == 't1')]\n",
    "data2 = data[(data.chorus_num == 't2')]\n",
    "no_year_data = data.drop('year', axis = 1) #also try t1 and t2 w/o years\n",
    "no_year_data1= no_year_data[(data.chorus_num == 't1')]\n",
    "no_year_data2= no_year_data[(data.chorus_num == 't2')]"
   ]
  },
  {
   "cell_type": "code",
   "execution_count": 13,
   "metadata": {
    "collapsed": true
   },
   "outputs": [],
   "source": [
    "#features = list (set(list(data.columns))-set(target_col))\n",
    "\n",
    "columns = data1.columns.tolist()\n",
    "columns = [c for c in columns if c not in [\"rank\",\"chorus_num\"]]\n",
    "\n",
    "columns1 = no_year_data.columns.tolist()\n",
    "columns1 = [c for c in columns1 if c not in [\"rank\",\"chorus_num\"]]\n",
    "#print data1.columns\n",
    "\n",
    "\n",
    "#chorus 1\n",
    "y = data1[\"rank\"]#.astype(float)\n",
    "X = data1[columns]\n",
    "#chorus 2\n",
    "y2 = data2[\"rank\"]\n",
    "X2 = data2[columns]\n",
    "#all chorus, no year\n",
    "y3 = no_year_data[\"rank\"]\n",
    "X3 = no_year_data[columns1]\n",
    "#chorus 1, no year\n",
    "y4 = no_year_data1[\"rank\"]\n",
    "X4 = no_year_data1[columns1]\n",
    "#chorus 2, no year\n",
    "y5 = no_year_data2[\"rank\"]\n",
    "X5 = no_year_data2[columns1]\n",
    "#all chorus\n",
    "y6 = data[\"rank\"]\n",
    "X6 = data[columns]"
   ]
  },
  {
   "cell_type": "code",
   "execution_count": 14,
   "metadata": {
    "collapsed": true
   },
   "outputs": [],
   "source": [
    "scaler = StandardScaler()\n",
    "X = scaler.fit_transform(X)\n",
    "\n",
    "X2 = scaler.fit_transform(X2)\n",
    "\n",
    "X3 = scaler.fit_transform(X3)\n",
    "\n",
    "X4 = scaler.fit_transform(X4)\n",
    "\n",
    "X5 = scaler.fit_transform(X5)\n",
    "\n",
    "X6 = scaler.fit_transform(X6)\n",
    "#y = scaler.fit_transform(y)"
   ]
  },
  {
   "cell_type": "code",
   "execution_count": 15,
   "metadata": {},
   "outputs": [
    {
     "name": "stdout",
     "output_type": "stream",
     "text": [
      "(390, 38) (390,)\n",
      "(168, 38) (168,)\n"
     ]
    }
   ],
   "source": [
    "X_train, X_test, y_train, y_test = train_test_split(X, y, test_size=0.30, train_size= .70 )\n",
    "\n",
    "print X_train.shape, y_train.shape\n",
    "print X_test.shape, y_test.shape\n",
    "#dir(mord.metrics)\n",
    "\n",
    "X2_train, X2_test, y2_train, y2_test = train_test_split(X2, y2, test_size=0.30, train_size= .70 )\n",
    "\n",
    "X3_train, X3_test, y3_train, y3_test = train_test_split(X3, y3, test_size=0.30, train_size= .70 )\n",
    "\n",
    "X4_train, X4_test, y4_train, y4_test = train_test_split(X4, y4, test_size=0.30, train_size= .70 )\n",
    "\n",
    "X5_train, X5_test, y5_train, y5_test = train_test_split(X5, y5, test_size=0.30, train_size= .70 )\n",
    "\n",
    "X6_train, X6_test, y6_train, y6_test = train_test_split(X6, y6, test_size=0.30, train_size= .70 )\n"
   ]
  },
  {
   "cell_type": "code",
   "execution_count": 16,
   "metadata": {},
   "outputs": [
    {
     "name": "stdout",
     "output_type": "stream",
     "text": [
      "cross-Validated scores:  3310.9314109\n"
     ]
    },
    {
     "data": {
      "image/png": "[encoded data removed]",
      "text/plain": [
       "<matplotlib.figure.Figure at 0x7f3a93ae7710>"
      ]
     },
     "metadata": {},
     "output_type": "display_data"
    },
    {
     "name": "stdout",
     "output_type": "stream",
     "text": [
      "Cross-Predicted Accuracy 3173.58914784\n"
     ]
    }
   ],
   "source": [
    "model = gaussian_process.GaussianProcessRegressor()\n",
    "\n",
    "reg_scores = cross_val_score(model, X_train, y_train, cv=10,scoring='neg_mean_squared_error')\n",
    "#scoring='neg_mean_squared_error'\n",
    "print \"cross-Validated scores: \", reg_scores.mean()*(-1)\n",
    "#score to beat 916.90\n",
    "\n",
    "reg_predictions = cross_val_predict(model, X_test,y_test,cv = 10)\n",
    "\n",
    "plt.scatter(y_test,reg_predictions)\n",
    "plt.show()\n",
    "\n",
    "reg_accuracy = metrics.mean_squared_error(y_test,reg_predictions)\n",
    "print \"Cross-Predicted Accuracy\", reg_accuracy "
   ]
  },
  {
   "cell_type": "code",
   "execution_count": 17,
   "metadata": {},
   "outputs": [
    {
     "name": "stdout",
     "output_type": "stream",
     "text": [
      "Chorus 2. cross-Validated scores:  3120.06922156\n"
     ]
    },
    {
     "data": {
      "image/png": "[encoded data removed]",
      "text/plain": [
       "<matplotlib.figure.Figure at 0x7f3a910f5310>"
      ]
     },
     "metadata": {},
     "output_type": "display_data"
    },
    {
     "name": "stdout",
     "output_type": "stream",
     "text": [
      "Cross-Predicted Accuracy 3385.37191623\n",
      "All Chorus No Year. cross-Validated scores:  2861.04863733\n"
     ]
    },
    {
     "data": {
      "image/png": "[encoded data removed]",
      "text/plain": [
       "<matplotlib.figure.Figure at 0x7f3a91019f10>"
      ]
     },
     "metadata": {},
     "output_type": "display_data"
    },
    {
     "name": "stdout",
     "output_type": "stream",
     "text": [
      "Cross-Predicted Accuracy 3194.0633936\n",
      "Chorus 1, no year. cross-Validated scores:  3136.06043136\n"
     ]
    },
    {
     "data": {
      "image/png": "[encoded data removed]",
      "text/plain": [
       "<matplotlib.figure.Figure at 0x7f3a910c7790>"
      ]
     },
     "metadata": {},
     "output_type": "display_data"
    },
    {
     "name": "stdout",
     "output_type": "stream",
     "text": [
      "Cross-Predicted Accuracy 3512.56489734\n",
      "\n",
      " Chorus 2, no year. cross-Validated scores:  3178.50584349\n"
     ]
    },
    {
     "data": {
      "image/png": "[encoded data removed]",
      "text/plain": [
       "<matplotlib.figure.Figure at 0x7f3a93c68110>"
      ]
     },
     "metadata": {},
     "output_type": "display_data"
    },
    {
     "name": "stdout",
     "output_type": "stream",
     "text": [
      "Cross-Predicted Accuracy 3404.78153616\n",
      "\n",
      " All chorus. cross-Validated scores:  2796.31798644\n"
     ]
    },
    {
     "data": {
      "image/png": "[encoded data removed]",
      "text/plain": [
       "<matplotlib.figure.Figure at 0x7f3a93c14f10>"
      ]
     },
     "metadata": {},
     "output_type": "display_data"
    },
    {
     "name": "stdout",
     "output_type": "stream",
     "text": [
      "Cross-Predicted Accuracy 3346.35581706\n"
     ]
    }
   ],
   "source": [
    "reg_scores2 = cross_val_score(model, X2_train, y2_train, cv=10,scoring='neg_mean_squared_error')\n",
    "#scoring='neg_mean_squared_error'\n",
    "print \"Chorus 2. cross-Validated scores: \", reg_scores2.mean()*(-1)\n",
    "\n",
    "reg_predictions2 = cross_val_predict(model, X2_test,y2_test,cv = 10)\n",
    "\n",
    "plt.scatter(y_test,reg_predictions2)\n",
    "plt.show()\n",
    "\n",
    "reg_accuracy2 = metrics.mean_squared_error(y2_test,reg_predictions2)\n",
    "print \"Cross-Predicted Accuracy\", reg_accuracy2 \n",
    "\n",
    "\n",
    "\n",
    "#* * * * * * * * * * * * *  * * * ** * * * * * ** * * * * * * * * * * * * * * * * *\n",
    "reg_scores3 = cross_val_score(model, X3_train, y3_train, cv=10,scoring='neg_mean_squared_error')\n",
    "#scoring='neg_mean_squared_error'\n",
    "print \"All Chorus No Year. cross-Validated scores: \", reg_scores3.mean()*(-1)\n",
    "\n",
    "reg_predictions3 = cross_val_predict(model, X3_test,y3_test,cv = 10)\n",
    "\n",
    "plt.scatter(y3_test,reg_predictions3)\n",
    "plt.show()\n",
    "\n",
    "reg_accuracy3 = metrics.mean_squared_error(y3_test,reg_predictions3)\n",
    "print \"Cross-Predicted Accuracy\", reg_accuracy3\n",
    "\n",
    "\n",
    "\n",
    "#* * * * * * * * * * * * *  * * * ** * * * * * ** * * * * * * * * * * * * * * * * *\n",
    "reg_scores4 = cross_val_score(model, X4_train, y4_train, cv=10,scoring='neg_mean_squared_error')\n",
    "#scoring='neg_mean_squared_error'\n",
    "print \"Chorus 1, no year. cross-Validated scores: \", reg_scores4.mean()*(-1)\n",
    "\n",
    "reg_predictions4 = cross_val_predict(model, X4_test,y4_test,cv = 10)\n",
    "\n",
    "plt.scatter(y4_test,reg_predictions4)\n",
    "plt.show()\n",
    "\n",
    "reg_accuracy4 = metrics.mean_squared_error(y4_test,reg_predictions4)\n",
    "print \"Cross-Predicted Accuracy\", reg_accuracy4\n",
    "\n",
    "\n",
    "#* * * * * * * * * * * * *  * * * ** * * * * * ** * * * * * * * * * * * * * * * * *\n",
    "reg_scores5 = cross_val_score(model, X5_train, y5_train, cv=10,scoring='neg_mean_squared_error')\n",
    "#scoring='neg_mean_squared_error'\n",
    "print \"\\n Chorus 2, no year. cross-Validated scores: \", reg_scores5.mean()*(-1)\n",
    "\n",
    "reg_predictions5 = cross_val_predict(model, X5_test,y5_test,cv = 10)\n",
    "\n",
    "plt.scatter(y5_test,reg_predictions5)\n",
    "plt.show()\n",
    "\n",
    "reg_accuracy5 = metrics.mean_squared_error(y5_test,reg_predictions5)\n",
    "print \"Cross-Predicted Accuracy\", reg_accuracy5\n",
    "\n",
    "#* * * * * * * * * * * * *  * * * ** * * * * * ** * * * * * * * * * * * * * * * * *\n",
    "reg_scores6 = cross_val_score(model, X6_train, y6_train, cv=10,scoring='neg_mean_squared_error')\n",
    "#scoring='neg_mean_squared_error'\n",
    "print \"\\n All chorus. cross-Validated scores: \", reg_scores6.mean()*(-1)\n",
    "\n",
    "reg_predictions6 = cross_val_predict(model, X6_test,y6_test,cv = 10)\n",
    "\n",
    "plt.scatter(y6_test,reg_predictions6)\n",
    "plt.show()\n",
    "\n",
    "reg_accuracy6 = metrics.mean_squared_error(y6_test,reg_predictions6)\n",
    "print \"Cross-Predicted Accuracy\", reg_accuracy6"
   ]
  }
 ],
 "metadata": {
  "kernelspec": {
   "display_name": "Python 3",
   "language": "python",
   "name": "python3"
  },
  "language_info": {
   "codemirror_mode": {
    "name": "ipython",
    "version": 2
   },
   "file_extension": ".py",
   "mimetype": "text/x-python",
   "name": "python",
   "nbconvert_exporter": "python",
   "pygments_lexer": "ipython2",
   "version": "2.7.13"
  }
 },
 "nbformat": 4,
 "nbformat_minor": 2
}
